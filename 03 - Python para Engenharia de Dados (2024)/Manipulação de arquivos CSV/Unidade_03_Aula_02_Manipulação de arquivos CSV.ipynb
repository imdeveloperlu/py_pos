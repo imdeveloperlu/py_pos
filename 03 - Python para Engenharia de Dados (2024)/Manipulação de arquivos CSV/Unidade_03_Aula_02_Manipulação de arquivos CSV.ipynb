{
 "nbformat": 4,
 "nbformat_minor": 0,
 "metadata": {
  "colab": {
   "provenance": []
  },
  "kernelspec": {
   "name": "python3",
   "display_name": "Python 3 (ipykernel)",
   "language": "python"
  },
  "language_info": {
   "name": "python"
  }
 },
 "cells": [
  {
   "cell_type": "code",
   "metadata": {
    "id": "2uZZqqB1nGgV",
    "ExecuteTime": {
     "end_time": "2025-04-16T19:21:13.674533Z",
     "start_time": "2025-04-16T19:21:13.634100Z"
    }
   },
   "source": [
    "# Criando um arquivo CSV e escrevendo conteúdo no mesmo\n",
    "import csv\n",
    "\n",
    "with open('saida.csv', 'w') as arquivo:\n",
    "    writer = csv.writer(arquivo)\n",
    "    writer.writerow(('RA', 'nome', 'nota'))\n",
    "    writer.writerow((100, 'João', 70.5))\n",
    "    writer.writerow((200, 'Maria', 80.00))\n",
    "    writer.writerow((300, 'José', 100.00))"
   ],
   "outputs": [],
   "execution_count": 1
  },
  {
   "cell_type": "code",
   "source": [
    "# Utilizando outro caractere separador: utilizar o parâmetro\n",
    "# delimiter no método writer\n",
    "\n",
    "import csv\n",
    "\n",
    "with open('nova_saida.csv', 'w') as arquivo:\n",
    "    writer = csv.writer(arquivo, delimiter = ';')\n",
    "    writer.writerow(('RA', 'nome', 'nota'))\n",
    "    writer.writerow((100, 'João', 70.5))\n",
    "    writer.writerow((200, 'Maria', 80.00))\n",
    "    writer.writerow((300, 'José', 100.00))\n"
   ],
   "metadata": {
    "id": "pH0UhNOkommV",
    "ExecuteTime": {
     "end_time": "2025-04-16T19:22:32.579935Z",
     "start_time": "2025-04-16T19:22:32.534681Z"
    }
   },
   "outputs": [],
   "execution_count": 2
  },
  {
   "cell_type": "code",
   "source": [
    "# Objeto reader: utilizado para leitura de dados em um arquivo CSV\n",
    "\n",
    "with open('futebol.csv', 'r') as arquivo:\n",
    "  reader = csv.reader(arquivo)\n",
    "  for linha in reader:\n",
    "    print(linha)"
   ],
   "metadata": {
    "id": "IrYy-54zpVol"
   },
   "execution_count": null,
   "outputs": []
  },
  {
   "cell_type": "code",
   "source": [
    "with open('nova_saida.csv', 'r') as arquivo:\n",
    "  reader = csv.reader(arquivo, delimiter = ';')\n",
    "  lista = list(reader)\n",
    "print(lista)"
   ],
   "metadata": {
    "id": "036P05vQrCbA"
   },
   "execution_count": null,
   "outputs": []
  },
  {
   "cell_type": "code",
   "source": [
    "# Imprimindo uma lista com o conteúdo do arquivo\n",
    "# (omitindo o cabeçalho)\n",
    "\n",
    "with open('nova_saida.csv', 'r') as arquivo:\n",
    "  reader = csv.reader(arquivo, delimiter = ';')\n",
    "  lista = list(reader)\n",
    "\n",
    "for l in lista[1:]:\n",
    "  print(l)"
   ],
   "metadata": {
    "id": "NlFnRgrNr1VA"
   },
   "execution_count": null,
   "outputs": []
  },
  {
   "cell_type": "code",
   "source": [
    "# Criando uma lista com o conteúdo do arquivo (omitindo o cabeçalho)\n",
    "\n",
    "with open('nova_saida.csv', 'r') as arquivo:\n",
    "  reader = csv.reader(arquivo, delimiter = ';')\n",
    "  next(reader) #Lê uma linha e incrementa o ponteiro do arquivo para a próxima linha\n",
    "  lista = list(reader)\n",
    "\n",
    "for l in lista:\n",
    "  print(l)"
   ],
   "metadata": {
    "id": "IJ95r6GZsTqP"
   },
   "execution_count": null,
   "outputs": []
  }
 ]
}
