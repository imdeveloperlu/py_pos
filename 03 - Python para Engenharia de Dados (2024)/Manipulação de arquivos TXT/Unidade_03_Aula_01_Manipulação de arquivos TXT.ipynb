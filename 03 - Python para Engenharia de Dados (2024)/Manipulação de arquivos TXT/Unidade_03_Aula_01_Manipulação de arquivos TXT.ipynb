{
 "nbformat": 4,
 "nbformat_minor": 0,
 "metadata": {
  "colab": {
   "provenance": []
  },
  "kernelspec": {
   "name": "python3",
   "display_name": "Python 3 (ipykernel)",
   "language": "python"
  },
  "language_info": {
   "name": "python"
  }
 },
 "cells": [
  {
   "cell_type": "code",
   "metadata": {
    "id": "_3ZkIPBSNQAl",
    "ExecuteTime": {
     "end_time": "2025-04-16T19:03:22.199030Z",
     "start_time": "2025-04-16T19:03:22.178200Z"
    }
   },
   "source": [
    "# Criando e gravando dados em um arquivo (considerando  que o arquivo SAIDA.txt\n",
    "# não exista no caminho atual)\n",
    "novo_arquivo = open('SAIDA.txt', 'w')\n",
    "novo_arquivo.write('Aula de manipulação de arquivos em Python...')\n",
    "novo_arquivo.write('Escrevendo dados em um arquivo')\n",
    "novo_arquivo.write('\\nCriando uma nova linha')\n",
    "novo_arquivo.close()"
   ],
   "outputs": [],
   "execution_count": 8
  },
  {
   "cell_type": "code",
   "source": [
    "# Adicionando linhas ao arquivo SAIDA.txt\n",
    "novo_arquivo = open('SAIDA.txt', 'a')  #Adiciona uma linha e sob-escreve\n",
    "novo_arquivo.write('\\nIncluindo uma nova linha...')\n",
    "novo_arquivo.close()"
   ],
   "metadata": {
    "id": "3U_XlDLdNgMO",
    "ExecuteTime": {
     "end_time": "2025-04-16T19:04:28.053056Z",
     "start_time": "2025-04-16T19:04:28.043686Z"
    }
   },
   "outputs": [],
   "execution_count": 11
  },
  {
   "cell_type": "code",
   "source": [
    "# Lendo dados de um arquivo, linha a linha\n",
    "arquivo = open('SAIDA.txt', 'r')\n",
    "for linha in arquivo:\n",
    "    print(linha)\n",
    "\n",
    "arquivo.close()"
   ],
   "metadata": {
    "id": "g7K24gX8P6n3"
   },
   "execution_count": null,
   "outputs": []
  },
  {
   "cell_type": "code",
   "source": [
    "with open('SAIDA.txt', 'r') as arquivo:\n",
    "  for linha in arquivo:\n",
    "    print('Obtendo cada palavra da linha...')\n",
    "    print(linha.split())\n",
    "    print(linha)"
   ],
   "metadata": {
    "id": "tJX33wbyQlje",
    "ExecuteTime": {
     "end_time": "2025-04-16T19:05:16.768009Z",
     "start_time": "2025-04-16T19:05:16.760839Z"
    }
   },
   "outputs": [
    {
     "name": "stdout",
     "output_type": "stream",
     "text": [
      "Obtendo cada palavra da linha...\n",
      "['Aula', 'de', 'manipulaï¿½ï¿½o', 'de', 'arquivos', 'em', 'Python...Escrevendo', 'dados', 'em', 'um', 'arquivo']\n",
      "Aula de manipulaï¿½ï¿½o de arquivos em Python...Escrevendo dados em um arquivo\n",
      "\n",
      "Obtendo cada palavra da linha...\n",
      "['Criando', 'uma', 'nova', 'linha']\n",
      "Criando uma nova linha\n",
      "\n",
      "Obtendo cada palavra da linha...\n",
      "['Incluindo', 'uma', 'nova', 'linha...']\n",
      "Incluindo uma nova linha...\n"
     ]
    }
   ],
   "execution_count": 13
  },
  {
   "cell_type": "code",
   "source": [
    "# Lendo dados de um arquivo\n",
    "arquivo = open('SAIDA.txt', 'r')\n",
    "conteudo = arquivo.read() #lendo o conteúdo do arquivo como uma string\n",
    "print('Conteúdo - método read()...')\n",
    "print(conteudo)\n",
    "print(type(conteudo))"
   ],
   "metadata": {
    "id": "jwmtx8wjRwDT",
    "ExecuteTime": {
     "end_time": "2025-04-16T19:06:04.493666Z",
     "start_time": "2025-04-16T19:06:04.486144Z"
    }
   },
   "outputs": [
    {
     "name": "stdout",
     "output_type": "stream",
     "text": [
      "Conteúdo - método read()...\n",
      "Aula de manipulaï¿½ï¿½o de arquivos em Python...Escrevendo dados em um arquivo\n",
      "Criando uma nova linha\n",
      "Incluindo uma nova linha...\n",
      "<class 'str'>\n"
     ]
    }
   ],
   "execution_count": 14
  },
  {
   "cell_type": "code",
   "source": [
    "# Lendo dados de um arquivo\n",
    "arquivo.seek(0) # Posiciona o ponteiro do arquivo para o início\n",
    "lista_linhas = arquivo.readlines() #lendo o conteúdo do arquivo como uma lista\n",
    "print('Linhas como uma lista - método readlines()...')\n",
    "print(lista_linhas)\n",
    "print(type(lista_linhas))"
   ],
   "metadata": {
    "id": "VLPwVgpyTLb2",
    "ExecuteTime": {
     "end_time": "2025-04-16T19:06:15.337780Z",
     "start_time": "2025-04-16T19:06:15.331216Z"
    }
   },
   "outputs": [
    {
     "name": "stdout",
     "output_type": "stream",
     "text": [
      "Linhas como uma lista - método readlines()...\n",
      "['Aula de manipulaï¿½ï¿½o de arquivos em Python...Escrevendo dados em um arquivo\\n', 'Criando uma nova linha\\n', 'Incluindo uma nova linha...']\n",
      "<class 'list'>\n"
     ]
    }
   ],
   "execution_count": 15
  },
  {
   "cell_type": "code",
   "source": [
    "# Gravando uma lista em um arquivo\n",
    "lista = ['\\nJoão da Silva', '\\nMaria Antonieta', '\\nJoaquim Souza']\n",
    "arquivo = open('SAIDA.txt', 'a')\n",
    "arquivo.writelines(lista) # escrever lista\n",
    "arquivo.close()"
   ],
   "metadata": {
    "id": "zucTjHbFUHSr",
    "ExecuteTime": {
     "end_time": "2025-04-16T19:08:27.712864Z",
     "start_time": "2025-04-16T19:08:27.674456Z"
    }
   },
   "outputs": [],
   "execution_count": 16
  },
  {
   "cell_type": "code",
   "source": [
    "# Copiando dados de um arquivo para outro:\n",
    "open('NOVA_SAIDA.txt', 'w').writelines(open('SAIDA.txt', 'r'))"
   ],
   "metadata": {
    "id": "LyLyohhTVqz1",
    "ExecuteTime": {
     "end_time": "2025-04-16T19:10:25.442444Z",
     "start_time": "2025-04-16T19:10:25.423667Z"
    }
   },
   "outputs": [],
   "execution_count": 17
  }
 ]
}
