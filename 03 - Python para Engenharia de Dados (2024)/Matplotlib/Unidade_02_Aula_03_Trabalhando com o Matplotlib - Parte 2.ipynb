{
 "nbformat": 4,
 "nbformat_minor": 0,
 "metadata": {
  "colab": {
   "provenance": []
  },
  "kernelspec": {
   "name": "python3",
   "display_name": "Python 3 (ipykernel)",
   "language": "python"
  },
  "language_info": {
   "name": "python"
  }
 },
 "cells": [
  {
   "cell_type": "code",
   "metadata": {
    "id": "sZOYbnPnVTcA",
    "ExecuteTime": {
     "end_time": "2025-04-09T19:58:18.180292Z",
     "start_time": "2025-04-09T19:58:17.339180Z"
    }
   },
   "source": [
    "import pandas as pd\n",
    "import matplotlib.pyplot as plt\n",
    "\n",
    "weather = pd.read_csv('https://github.com/alanjones2/dataviz/raw/master/londonweather.csv')\n",
    "\n",
    "weather.sample(10)"
   ],
   "outputs": [
    {
     "ename": "ModuleNotFoundError",
     "evalue": "No module named 'pandas'",
     "output_type": "error",
     "traceback": [
      "\u001B[31m---------------------------------------------------------------------------\u001B[39m",
      "\u001B[31mModuleNotFoundError\u001B[39m                       Traceback (most recent call last)",
      "\u001B[36mCell\u001B[39m\u001B[36m \u001B[39m\u001B[32mIn[2]\u001B[39m\u001B[32m, line 1\u001B[39m\n\u001B[32m----> \u001B[39m\u001B[32m1\u001B[39m \u001B[38;5;28;01mimport\u001B[39;00m\u001B[38;5;250m \u001B[39m\u001B[34;01mpandas\u001B[39;00m\u001B[38;5;250m \u001B[39m\u001B[38;5;28;01mas\u001B[39;00m\u001B[38;5;250m \u001B[39m\u001B[34;01mpd\u001B[39;00m\n\u001B[32m      2\u001B[39m \u001B[38;5;28;01mimport\u001B[39;00m\u001B[38;5;250m \u001B[39m\u001B[34;01mmatplotlib\u001B[39;00m\u001B[34;01m.\u001B[39;00m\u001B[34;01mpyplot\u001B[39;00m\u001B[38;5;250m \u001B[39m\u001B[38;5;28;01mas\u001B[39;00m\u001B[38;5;250m \u001B[39m\u001B[34;01mplt\u001B[39;00m\n\u001B[32m      4\u001B[39m weather = pd.read_csv(\u001B[33m'\u001B[39m\u001B[33mhttps://github.com/alanjones2/dataviz/raw/master/londonweather.csv\u001B[39m\u001B[33m'\u001B[39m)\n",
      "\u001B[31mModuleNotFoundError\u001B[39m: No module named 'pandas'"
     ]
    }
   ],
   "execution_count": 2
  },
  {
   "cell_type": "code",
   "source": [
    "# Obtendo a numeração dos meses avaliados\n",
    "x_periodo = weather[weather['Year'] == 1957].Month\n",
    "\n",
    "# Obtendo os dados de temperaturas\n",
    "y_temperaturas_1957 = weather[weather['Year'] == 1957].Tmax\n",
    "y_temperaturas_1977 = weather[weather['Year'] == 1977].Tmax\n",
    "y_temperaturas_1997 = weather[weather['Year'] == 1997].Tmax\n",
    "y_temperaturas_2017 = weather[weather['Year'] == 2017].Tmax\n",
    "\n",
    "x_periodo"
   ],
   "metadata": {
    "id": "AoypvrAwVvsv"
   },
   "execution_count": null,
   "outputs": []
  },
  {
   "cell_type": "code",
   "source": [
    "# Listando os estilos disponíveis para uso pelo pyplot\n",
    "print(plt.style.available)"
   ],
   "metadata": {
    "id": "1NHLpooJXnaj"
   },
   "execution_count": null,
   "outputs": []
  },
  {
   "cell_type": "code",
   "source": [
    "plt.rcdefaults()\n",
    "plt.style.use('classic')\n",
    "plt.plot(x_periodo, y_temperaturas_1957, marker='o')\n",
    "plt.annotate('(Tmax=16.2\\n em Maio de 1957)', color = 'blue', xy=(5, 16.2), xytext=(6,13), arrowprops=dict(color='purple'))\n",
    "plt.title(\"Temperatura durante o Ano de 1957\")\n",
    "plt.ylabel(\"Temperatura\")\n",
    "plt.xlabel(\"Meses\")\n",
    "plt.grid();#axis=’both’,’x’ou ’y’"
   ],
   "metadata": {
    "id": "9LN_sjHWXurF"
   },
   "execution_count": null,
   "outputs": []
  },
  {
   "cell_type": "code",
   "source": [
    "# Incluindo legenda\n",
    "plt.rcdefaults()\n",
    "plt.style.use('grayscale')\n",
    "plt.plot(x_periodo, y_temperaturas_1957, marker='o', label=\"Tmax em 1957\")\n",
    "\n",
    "plt.annotate('(Tmax=16.2\\n em Maio de 1957)', color = 'blue', xy=(5, 16.2), xytext=(6,13), arrowprops=dict(color='purple'))\n",
    "\n",
    "plt.title(\"Temperatura durante o Ano de 1957\")\n",
    "plt.ylabel(\"Temperatura\")\n",
    "plt.xlabel(\"Meses\")\n",
    "plt.legend();"
   ],
   "metadata": {
    "id": "_L63lkRIY2lq"
   },
   "execution_count": null,
   "outputs": []
  },
  {
   "cell_type": "code",
   "source": [
    "# Gráfico de barras\n",
    "plt.rcdefaults()\n",
    "plt.style.use('classic')\n",
    "plt.bar(x_periodo, y_temperaturas_1957, label=\"Tmax em 1957\")\n",
    "\n",
    "plt.annotate('(Tmax=23.6\\n em Junho de 1957)', color = 'green', xy=(6, 23), xytext=(1,18), arrowprops=dict(color='red'))\n",
    "\n",
    "plt.title(\"Temperatura durante o Ano de 1957\")\n",
    "plt.ylabel(\"Temperatura\")\n",
    "plt.xlabel(\"Meses\")\n",
    "plt.grid(axis='y')\n",
    "plt.legend();"
   ],
   "metadata": {
    "id": "vt3gb6Sda7UA"
   },
   "execution_count": null,
   "outputs": []
  },
  {
   "cell_type": "code",
   "source": [
    "# Gráficos sobrepostos\n",
    "plt.rcdefaults()\n",
    "\n",
    "plt.plot(x_periodo, y_temperaturas_1957, label = \"Tmax em 1957\", marker = 'o')\n",
    "plt.plot(x_periodo, y_temperaturas_1977, label = \"Tmax em 1977\", marker = 's')\n",
    "plt.plot(x_periodo, y_temperaturas_1997, label = \"Tmax em 1997\", marker = 'h')\n",
    "plt.plot(x_periodo, y_temperaturas_2017, label = \"Tmax em 2017\", marker = '*')\n",
    "\n",
    "plt.title(\"Controle de Temperatura Máxima dos últimos 60 anos (A cada 20 anos)\")\n",
    "plt.ylabel(\"Temperatura\")\n",
    "plt.xlabel(\"Meses\")\n",
    "plt.grid()\n",
    "plt.xticks([]) # Oculta rótulo x\n",
    "plt.legend();"
   ],
   "metadata": {
    "id": "3T_A6alscdXt"
   },
   "execution_count": null,
   "outputs": []
  },
  {
   "cell_type": "code",
   "source": [
    "# Trabalhando com Subplots\n",
    "gridsize = (7, 2)\n",
    "fig = plt.figure(figsize=(9, 6)) #default (6.4, 4.8)\n",
    "ax1 = plt.subplot2grid(gridsize, (0, 0), colspan=2, rowspan=2) # 1957\n",
    "ax2 = plt.subplot2grid(gridsize, (3, 0)) # 1977\n",
    "ax3 = plt.subplot2grid(gridsize, (3, 1)) # 1997\n",
    "ax4 = plt.subplot2grid(gridsize, (5, 0), colspan=2, rowspan=2) # 2017\n",
    "\n",
    "ax1.set_title('Temperatura por mês em 1957')\n",
    "ax1.plot(x_periodo, y_temperaturas_1957, 'gh--')\n",
    "ax1.set_xlabel('Meses')\n",
    "ax1.set_ylabel('1957')\n",
    "ax1.set_xticks(x_periodo)\n",
    "ax1.grid()\n",
    "\n",
    "ax2.set_title('Temperatura por mês em 1977')\n",
    "ax2.plot(x_periodo, y_temperaturas_1977, 'bo--')\n",
    "ax2.set_xlabel('Meses')\n",
    "ax2.set_ylabel('1977')\n",
    "ax2.set_xticks(x_periodo)\n",
    "ax2.grid()\n",
    "\n",
    "ax3.set_title('Temperatura por mês em 1997')\n",
    "ax3.plot(x_periodo, y_temperaturas_1997, 'rs--')\n",
    "ax3.set_xlabel('Meses')\n",
    "ax3.set_ylabel('1997')\n",
    "ax3.set_xticks(x_periodo)\n",
    "ax3.grid()\n",
    "\n",
    "ax4.set_title('Temperatura por mês em 2017')\n",
    "ax4.plot(x_periodo, y_temperaturas_2017, 'm*--')\n",
    "ax4.set_xlabel('Meses')\n",
    "ax4.set_ylabel('2017')\n",
    "ax4.set_xticks(x_periodo)\n",
    "ax4.grid();"
   ],
   "metadata": {
    "id": "mssR5xdthTCi"
   },
   "execution_count": null,
   "outputs": []
  }
 ]
}
